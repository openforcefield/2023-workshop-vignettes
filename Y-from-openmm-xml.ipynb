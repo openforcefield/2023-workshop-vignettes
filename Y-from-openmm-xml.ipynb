{
 "cells": [
  {
   "cell_type": "code",
   "execution_count": 1,
   "id": "87eedf27",
   "metadata": {},
   "outputs": [
    {
     "name": "stdout",
     "output_type": "stream",
     "text": [
      "env: INTERCHANGE_EXPERIMENTAL=1\n"
     ]
    }
   ],
   "source": [
    "%env INTERCHANGE_EXPERIMENTAL=1"
   ]
  },
  {
   "cell_type": "markdown",
   "id": "e3ee15c0",
   "metadata": {},
   "source": [
    "Grab an externally parameterized system (from the SAMPL6 challenge, used a non-SMIRNOFF FF), and show that we can load it into Interchange and evaluate energies."
   ]
  },
  {
   "cell_type": "code",
   "execution_count": 2,
   "id": "20700146",
   "metadata": {},
   "outputs": [
    {
     "data": {
      "text/plain": [
       "('complex.pdb', <http.client.HTTPMessage at 0x10f98d660>)"
      ]
     },
     "execution_count": 2,
     "metadata": {},
     "output_type": "execute_result"
    }
   ],
   "source": [
    "import urllib\n",
    "url = (\n",
    "    \"https://raw.githubusercontent.com/samplchallenges/SAMPL6/master/host_guest/SAMPLing/CB8-G3-0/\"\n",
    ")\n",
    "\n",
    "urllib.request.urlretrieve(url + \"OPENMM/complex.xml\", \"complex.xml\")\n",
    "urllib.request.urlretrieve(url + \"PDB/complex.pdb\", \"complex.pdb\")"
   ]
  },
  {
   "cell_type": "code",
   "execution_count": 3,
   "id": "84babbb6",
   "metadata": {},
   "outputs": [
    {
     "data": {
      "application/vnd.jupyter.widget-view+json": {
       "model_id": "a32ff032f61b46e6ae69035f0e540d78",
       "version_major": 2,
       "version_minor": 0
      },
      "text/plain": []
     },
     "metadata": {},
     "output_type": "display_data"
    }
   ],
   "source": [
    "from openff.interchange import Interchange\n",
    "import openmm\n",
    "import openmm.app\n",
    "\n",
    "from openff.units.openmm import ensure_quantity\n",
    "\n",
    "from openff.interchange.drivers import get_openmm_energies\n",
    "from openff.interchange.drivers.all import get_summary_data"
   ]
  },
  {
   "cell_type": "code",
   "execution_count": 4,
   "id": "236371ed",
   "metadata": {},
   "outputs": [],
   "source": [
    "pdb_file = openmm.app.PDBFile(\"complex.pdb\")\n",
    "\n",
    "topology: openmm.app.Topology = pdb_file.topology\n",
    "system: openmm.System = openmm.XmlSerializer.deserialize(open(\"complex.xml\").read())\n",
    "\n",
    "for index, force in enumerate(system.getForces()):\n",
    "    if \"Barostat\" in force.__class__.__name__:\n",
    "        break\n",
    "\n",
    "system.removeForce(index)"
   ]
  },
  {
   "cell_type": "code",
   "execution_count": 5,
   "id": "644a095a",
   "metadata": {},
   "outputs": [
    {
     "data": {
      "application/vnd.jupyter.widget-view+json": {
       "model_id": "6bc0ea9536d54fac8638c8b220196606",
       "version_major": 2,
       "version_minor": 0
      },
      "text/plain": [
       "NGLWidget()"
      ]
     },
     "metadata": {},
     "output_type": "display_data"
    }
   ],
   "source": [
    "import nglview\n",
    "nglview.show_file('complex.pdb')"
   ]
  },
  {
   "cell_type": "code",
   "execution_count": 6,
   "id": "c42ac165",
   "metadata": {},
   "outputs": [],
   "source": [
    "inputted = Interchange.from_openmm(\n",
    "    topology=topology,\n",
    "    system=system,\n",
    "    box_vectors=ensure_quantity(topology.getPeriodicBoxVectors(), \"openff\"),\n",
    "    positions=pdb_file.positions,\n",
    ")"
   ]
  },
  {
   "cell_type": "code",
   "execution_count": 7,
   "id": "7862e2e7",
   "metadata": {},
   "outputs": [
    {
     "data": {
      "text/plain": [
       "EnergyReport(energies={'Bond': <Quantity(170.605375, 'kilojoule / mole')>, 'Angle': <Quantity(893.205219, 'kilojoule / mole')>, 'Torsion': <Quantity(503.72436, 'kilojoule / mole')>, 'Nonbonded': <Quantity(-97697.9652, 'kilojoule / mole')>})"
      ]
     },
     "execution_count": 7,
     "metadata": {},
     "output_type": "execute_result"
    }
   ],
   "source": [
    "get_openmm_energies(inputted)"
   ]
  },
  {
   "cell_type": "code",
   "execution_count": 9,
   "id": "45ed5aa8",
   "metadata": {},
   "outputs": [
    {
     "data": {
      "text/html": [
       "<div>\n",
       "<style scoped>\n",
       "    .dataframe tbody tr th:only-of-type {\n",
       "        vertical-align: middle;\n",
       "    }\n",
       "\n",
       "    .dataframe tbody tr th {\n",
       "        vertical-align: top;\n",
       "    }\n",
       "\n",
       "    .dataframe thead th {\n",
       "        text-align: right;\n",
       "    }\n",
       "</style>\n",
       "<table border=\"1\" class=\"dataframe\">\n",
       "  <thead>\n",
       "    <tr style=\"text-align: right;\">\n",
       "      <th></th>\n",
       "      <th>Angle</th>\n",
       "      <th>Bond</th>\n",
       "      <th>Electrostatics</th>\n",
       "      <th>Torsion</th>\n",
       "      <th>vdW</th>\n",
       "    </tr>\n",
       "  </thead>\n",
       "  <tbody>\n",
       "    <tr>\n",
       "      <th>OpenMM</th>\n",
       "      <td>893.205219</td>\n",
       "      <td>170.605375</td>\n",
       "      <td>-110747.150441</td>\n",
       "      <td>503.72436</td>\n",
       "      <td>13049.185455</td>\n",
       "    </tr>\n",
       "  </tbody>\n",
       "</table>\n",
       "</div>"
      ],
      "text/plain": [
       "             Angle        Bond  Electrostatics    Torsion           vdW\n",
       "OpenMM  893.205219  170.605375  -110747.150441  503.72436  13049.185455"
      ]
     },
     "execution_count": 9,
     "metadata": {},
     "output_type": "execute_result"
    }
   ],
   "source": [
    "get_summary_data(inputted, _engines=[\"OpenMM\"])"
   ]
  },
  {
   "cell_type": "code",
   "execution_count": null,
   "id": "fa47e48b",
   "metadata": {},
   "outputs": [],
   "source": []
  }
 ],
 "metadata": {
  "kernelspec": {
   "display_name": "Python 3 (ipykernel)",
   "language": "python",
   "name": "python3"
  },
  "language_info": {
   "codemirror_mode": {
    "name": "ipython",
    "version": 3
   },
   "file_extension": ".py",
   "mimetype": "text/x-python",
   "name": "python",
   "nbconvert_exporter": "python",
   "pygments_lexer": "ipython3",
   "version": "3.10.11"
  }
 },
 "nbformat": 4,
 "nbformat_minor": 5
}
