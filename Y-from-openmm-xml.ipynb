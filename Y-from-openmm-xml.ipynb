{
 "cells": [
  {
   "cell_type": "code",
   "execution_count": 1,
   "id": "87eedf27",
   "metadata": {},
   "outputs": [
    {
     "name": "stdout",
     "output_type": "stream",
     "text": [
      "env: INTERCHANGE_EXPERIMENTAL=1\n"
     ]
    }
   ],
   "source": [
    "%env INTERCHANGE_EXPERIMENTAL=1"
   ]
  },
  {
   "cell_type": "code",
   "execution_count": 2,
   "id": "e2f70b28",
   "metadata": {},
   "outputs": [],
   "source": [
    "!wget -q https://raw.githubusercontent.com/samplchallenges/SAMPL6/master/host_guest/SAMPLing/CB8-G3-0/OPENMM/complex.xml\n",
    "!wget -q https://raw.githubusercontent.com/samplchallenges/SAMPL6/master/host_guest/SAMPLing/CB8-G3-0/OPENMM/complex.pdb"
   ]
  },
  {
   "cell_type": "code",
   "execution_count": 3,
   "id": "84babbb6",
   "metadata": {},
   "outputs": [
    {
     "data": {
      "application/vnd.jupyter.widget-view+json": {
       "model_id": "a61d6b4b3cd24649867c7d68ab73a944",
       "version_major": 2,
       "version_minor": 0
      },
      "text/plain": []
     },
     "metadata": {},
     "output_type": "display_data"
    }
   ],
   "source": [
    "from openff.interchange import Interchange\n",
    "import openmm\n",
    "import openmm.app\n",
    "\n",
    "from openff.units.openmm import ensure_quantity\n",
    "\n",
    "from openff.interchange.drivers import get_openmm_energies"
   ]
  },
  {
   "cell_type": "code",
   "execution_count": 4,
   "id": "236371ed",
   "metadata": {},
   "outputs": [],
   "source": [
    "pdb_file = openmm.app.PDBFile(\"complex.pdb\")\n",
    "\n",
    "topology: openmm.app.Topology = pdb_file.topology\n",
    "system: openmm.System = openmm.XmlSerializer.deserialize(open(\"complex.xml\").read())\n",
    "\n",
    "for index, force in enumerate(system.getForces()):\n",
    "    if \"Barostat\" in force.__class__.__name__:\n",
    "        break\n",
    "\n",
    "system.removeForce(index)"
   ]
  },
  {
   "cell_type": "code",
   "execution_count": 5,
   "id": "c42ac165",
   "metadata": {},
   "outputs": [],
   "source": [
    "inputted = Interchange.from_openmm(\n",
    "    topology=topology,\n",
    "    system=system,\n",
    "    box_vectors=ensure_quantity(topology.getPeriodicBoxVectors(), \"openff\"),\n",
    "    positions=pdb_file.positions,\n",
    ")"
   ]
  },
  {
   "cell_type": "code",
   "execution_count": 6,
   "id": "7862e2e7",
   "metadata": {},
   "outputs": [
    {
     "data": {
      "text/plain": [
       "EnergyReport(energies={'Bond': <Quantity(170.605375, 'kilojoule / mole')>, 'Angle': <Quantity(893.205219, 'kilojoule / mole')>, 'Torsion': <Quantity(503.72436, 'kilojoule / mole')>, 'Nonbonded': <Quantity(-97697.9652, 'kilojoule / mole')>})"
      ]
     },
     "execution_count": 6,
     "metadata": {},
     "output_type": "execute_result"
    }
   ],
   "source": [
    "get_openmm_energies(inputted)"
   ]
  }
 ],
 "metadata": {
  "kernelspec": {
   "display_name": "Python 3 (ipykernel)",
   "language": "python",
   "name": "python3"
  },
  "language_info": {
   "codemirror_mode": {
    "name": "ipython",
    "version": 3
   },
   "file_extension": ".py",
   "mimetype": "text/x-python",
   "name": "python",
   "nbconvert_exporter": "python",
   "pygments_lexer": "ipython3",
   "version": "3.10.10"
  }
 },
 "nbformat": 4,
 "nbformat_minor": 5
}
