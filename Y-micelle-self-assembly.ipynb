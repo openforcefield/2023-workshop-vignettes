{
 "cells": [
  {
   "cell_type": "code",
   "execution_count": null,
   "id": "6aeb52c7",
   "metadata": {},
   "outputs": [],
   "source": [
    "!wget https://raw.githubusercontent.com/openforcefield/2023-workshop-vignettes/master/colab_setup.ipynb\n",
    "%run colab_setup.ipynb"
   ]
  },
  {
   "cell_type": "markdown",
   "id": "ad0fe726",
   "metadata": {},
   "source": [
    "# Lipid Self-assembly"
   ]
  },
  {
   "cell_type": "code",
   "execution_count": 1,
   "id": "1949e989",
   "metadata": {
    "tags": []
   },
   "outputs": [
    {
     "name": "stderr",
     "output_type": "stream",
     "text": [
      "The OpenEye Toolkits are found to be installed but not licensed and therefore will not be used.\n",
      "The OpenEye Toolkits require a (free for academics) license, see https://docs.eyesopen.com/toolkits/python/quickstart-python/license.html\n"
     ]
    },
    {
     "data": {
      "application/vnd.jupyter.widget-view+json": {
       "model_id": "4c42d150eb224e24838c3ecf333ccadd",
       "version_major": 2,
       "version_minor": 0
      },
      "text/plain": []
     },
     "metadata": {},
     "output_type": "display_data"
    }
   ],
   "source": [
    "from io import StringIO\n",
    "\n",
    "from openff.toolkit import Topology, Molecule, ForceField\n",
    "from openff.interchange import Interchange\n",
    "from openff.interchange.components._packmol import pack_box\n",
    "from openff.units import unit\n",
    "\n",
    "import nglview\n",
    "import openmm\n",
    "import numpy as np\n",
    "import mdtraj\n",
    "\n",
    "def visualize(topology):\n",
    "    \"\"\"Visualize a topology with nglview\"\"\"\n",
    "    with StringIO() as f:\n",
    "        topology.to_file(file=f)\n",
    "        pdb_str = f.getvalue()\n",
    "    return nglview.show_text(pdb_str)\n"
   ]
  },
  {
   "cell_type": "code",
   "execution_count": 35,
   "id": "9031fe9a",
   "metadata": {
    "tags": []
   },
   "outputs": [],
   "source": [
    "#TODO: phosphatidylethanolamine or phosphatidylserine may have easier-to-spot hydrophillic head groups\n",
    "dlpc = Molecule.from_smiles(\"CCCCCCCCCCCC(=O)OC[C@H](CO[P@](=O)([O-])OCC[N+](C)(C)C)OC(=O)CCCCCCCCCCC\")\n",
    "lipids = [dlpc]\n",
    "\n",
    "conc_nacl = 0.1 * unit.mole/unit.liter\n",
    "n_waters = 4000\n",
    "n_lipids = [25]\n",
    "target_density = 1.0 * unit.gram / unit.milliliter"
   ]
  },
  {
   "cell_type": "code",
   "execution_count": 36,
   "id": "9eda13a1",
   "metadata": {
    "tags": []
   },
   "outputs": [
    {
     "name": "stderr",
     "output_type": "stream",
     "text": [
      "Warning: : Failed due to unspecified stereochemistry\n",
      "Warning (not error because allow_undefined_stereo=True): OEMol has unspecified stereochemistry. oemol.GetTitle(): \n",
      "Problematic atoms are:\n",
      "Atom atomic num: 15, name: , idx: 19, aromatic: False, chiral: True with bonds:\n",
      "bond order: 1, chiral: False to atom atomic num: 8, name: , idx: 18, aromatic: False, chiral: False\n",
      "bond order: 2, chiral: False to atom atomic num: 8, name: , idx: 20, aromatic: False, chiral: False\n",
      "bond order: 1, chiral: False to atom atomic num: 8, name: , idx: 21, aromatic: False, chiral: False\n",
      "bond order: 1, chiral: False to atom atomic num: 8, name: , idx: 22, aromatic: False, chiral: False\n",
      "\n",
      "Warning (not error because allow_undefined_stereo=True): RDMol has unspecified stereochemistry. Undefined chiral centers are:\n",
      " - Atom P (index 46)\n",
      "\n",
      "Warning (not error because allow_undefined_stereo=True): OEMol has unspecified stereochemistry. oemol.GetTitle(): \n",
      "Problematic atoms are:\n",
      "Atom atomic num: 15, name: , idx: 46, aromatic: False, chiral: True with bonds:\n",
      "bond order: 1, chiral: False to atom atomic num: 8, name: , idx: 45, aromatic: False, chiral: False\n",
      "bond order: 2, chiral: False to atom atomic num: 8, name: , idx: 47, aromatic: False, chiral: False\n",
      "bond order: 1, chiral: False to atom atomic num: 8, name: , idx: 48, aromatic: False, chiral: False\n",
      "bond order: 1, chiral: False to atom atomic num: 8, name: , idx: 49, aromatic: False, chiral: False\n",
      "\n"
     ]
    }
   ],
   "source": [
    "water = Molecule.from_smiles(\"O\")\n",
    "na = Molecule.from_smiles(\"[Na+]\")\n",
    "cl = Molecule.from_smiles(\"[Cl-]\")\n",
    "\n",
    "molarity_pure_water = 55.5 * unit.mole / unit.liter\n",
    "n_nacl = int((n_waters / molarity_pure_water * conc_nacl).to(unit.dimensionless).m)\n",
    "molecules = [*lipids, water, na, cl]\n",
    "n_copies = [*n_lipids, n_waters, n_nacl, n_nacl]\n",
    "\n",
    "total_mass = sum([sum([atom.mass for atom in molecule.atoms]) * n for molecule, n in zip(molecules, n_copies)])\n",
    "target_volume = total_mass / target_density\n",
    "box_size = np.ones(3) * np.cbrt(target_volume)\n",
    "\n",
    "traj, resname = pack_box(\n",
    "    molecules,\n",
    "    n_copies,\n",
    "    box_size = box_size,\n",
    "    tolerance=0.05 * unit.nanometer,\n",
    ")"
   ]
  },
  {
   "cell_type": "code",
   "execution_count": 37,
   "id": "f24132cf",
   "metadata": {
    "tags": []
   },
   "outputs": [],
   "source": [
    "top = Topology.from_mdtraj(traj.topology, unique_molecules=[dlpc, water, na, cl])\n",
    "top.set_positions(traj.xyz.reshape(-1, 3) * unit.nanometer)\n",
    "top.box_vectors = traj.unitcell_vectors.reshape(3, 3) * unit.nanometer"
   ]
  },
  {
   "cell_type": "code",
   "execution_count": 38,
   "id": "b18b34f3",
   "metadata": {
    "tags": []
   },
   "outputs": [
    {
     "data": {
      "application/vnd.jupyter.widget-view+json": {
       "model_id": "6f4653d655f64a239c8ad8292b315d4a",
       "version_major": 2,
       "version_minor": 0
      },
      "text/plain": [
       "NGLWidget()"
      ]
     },
     "metadata": {},
     "output_type": "display_data"
    }
   ],
   "source": [
    "w = visualize(top)\n",
    "w.add_representation(\"line\", selection=\"water\")\n",
    "w"
   ]
  },
  {
   "cell_type": "code",
   "execution_count": 39,
   "id": "76e2623c",
   "metadata": {
    "tags": []
   },
   "outputs": [],
   "source": [
    "with open(\"topology.json\", \"w\") as f:\n",
    "    print(top.to_json(), file=f)\n",
    "top.to_file(\"topology.pdb\", file_format=\"PDB\")"
   ]
  },
  {
   "cell_type": "code",
   "execution_count": 40,
   "id": "bbdbfea4",
   "metadata": {
    "tags": []
   },
   "outputs": [],
   "source": [
    "sage = ForceField(\"openff-2.1.0.offxml\")"
   ]
  },
  {
   "cell_type": "code",
   "execution_count": 41,
   "id": "8541c4d4",
   "metadata": {
    "tags": []
   },
   "outputs": [],
   "source": [
    "interchange = Interchange.from_smirnoff(sage, top)"
   ]
  },
  {
   "cell_type": "code",
   "execution_count": 42,
   "id": "903e02c6",
   "metadata": {
    "tags": []
   },
   "outputs": [],
   "source": [
    "with open(\"interchange.json\", \"w\") as f:\n",
    "    f.write(interchange.json())"
   ]
  },
  {
   "cell_type": "code",
   "execution_count": 43,
   "id": "7be76a3b",
   "metadata": {
    "tags": []
   },
   "outputs": [
    {
     "data": {
      "text/plain": [
       "4"
      ]
     },
     "execution_count": 43,
     "metadata": {},
     "output_type": "execute_result"
    }
   ],
   "source": [
    "openmm_system = interchange.to_openmm()\n",
    "openmm_topology = interchange.to_openmm_topology()\n",
    "openmm_positions = interchange.positions.to_openmm()\n",
    "\n",
    "temperature = 300 * openmm.unit.kelvin\n",
    "\n",
    "openmm_system.addForce(\n",
    "    openmm.MonteCarloBarostat(\n",
    "        1.0 * openmm.unit.bar, \n",
    "        temperature,\n",
    "    )\n",
    ")"
   ]
  },
  {
   "cell_type": "code",
   "execution_count": 44,
   "id": "d3db2ebd",
   "metadata": {
    "tags": []
   },
   "outputs": [],
   "source": [
    "delta_t = 2 * unit.femtoseconds\n",
    "\n",
    "# Construct and configure a Langevin integrator at 300 K with an appropriate friction constant and time-step\n",
    "integrator = openmm.LangevinMiddleIntegrator(\n",
    "    temperature,\n",
    "    1 / openmm.unit.picosecond,\n",
    "    delta_t.to_openmm(),\n",
    ")\n",
    "\n",
    "# Combine the topology, system, integrator and initial positions into a simulation\n",
    "simulation = openmm.app.Simulation(openmm_topology, openmm_system, integrator)\n",
    "simulation.context.setPositions(openmm_positions)\n",
    "\n",
    "# Add a reporter to record the structure every data_freq steps\n",
    "data_freq = 1000\n",
    "dcd_reporter = openmm.app.DCDReporter(\"trajectory.dcd\", data_freq)\n",
    "simulation.reporters.append(dcd_reporter)\n",
    "\n",
    "state_data_reporter = openmm.app.StateDataReporter(\n",
    "    \"data.csv\",\n",
    "    data_freq,\n",
    "    step=True,\n",
    "    potentialEnergy=True,\n",
    "    temperature=True,\n",
    "    density=True,\n",
    ")\n",
    "simulation.reporters.append(state_data_reporter)"
   ]
  },
  {
   "cell_type": "code",
   "execution_count": 45,
   "id": "41a7d618",
   "metadata": {
    "tags": []
   },
   "outputs": [
    {
     "name": "stdout",
     "output_type": "stream",
     "text": [
      "Minimised to -191555.3813474467 kJ/mol with maximum force 2637.890863463706 kJ/(nm mol)\n"
     ]
    }
   ],
   "source": [
    "simulation.minimizeEnergy(\n",
    "    tolerance=openmm.unit.Quantity(\n",
    "        value=50.0, unit=openmm.unit.kilojoule_per_mole / openmm.unit.nanometer\n",
    "    )\n",
    ")\n",
    "minimized_state = simulation.context.getState(\n",
    "    getPositions=True, getEnergy=True, getForces=True\n",
    ")\n",
    "\n",
    "print(\n",
    "    \"Minimised to\",\n",
    "    minimized_state.getPotentialEnergy(),\n",
    "    \"with maximum force\",\n",
    "    max(\n",
    "        np.sqrt(v.x * v.x + v.y * v.y + v.z * v.z) for v in minimized_state.getForces()\n",
    "    ),\n",
    "    minimized_state.getForces().unit.get_symbol(),\n",
    ")\n",
    "\n",
    "minimized_coords = minimized_state.getPositions()"
   ]
  },
  {
   "cell_type": "code",
   "execution_count": 46,
   "id": "9c851b84",
   "metadata": {
    "tags": []
   },
   "outputs": [
    {
     "name": "stdout",
     "output_type": "stream",
     "text": [
      "5260 steps in 10.0 second (3.7872 nanosecond / hour)\n"
     ]
    }
   ],
   "source": [
    "simulation.context.setVelocitiesToTemperature(temperature)\n",
    "\n",
    "timing_walltime = 10.0 * unit.second\n",
    "\n",
    "simulation.runForClockTime(timing_walltime.to_openmm())\n",
    "\n",
    "slowdown_factor = (\n",
    "    simulation.currentStep \n",
    "    * delta_t \n",
    "    / timing_walltime\n",
    ").to(unit.nanosecond/unit.hour)\n",
    "\n",
    "print(f\"{simulation.currentStep} steps in {timing_walltime} ({slowdown_factor})\")"
   ]
  },
  {
   "cell_type": "code",
   "execution_count": 55,
   "id": "cab1fcb5",
   "metadata": {
    "tags": []
   },
   "outputs": [],
   "source": [
    "simulation_time = 10 * unit.nanosecond\n",
    "steps = round((simulation_time / delta_t).to(unit.dimensionless).m)\n",
    "simulation.step(steps)"
   ]
  },
  {
   "cell_type": "markdown",
   "id": "31571d4e-f00e-4f2d-82e6-c6f5a9e38a41",
   "metadata": {},
   "source": [
    "## Visualisation"
   ]
  },
  {
   "cell_type": "code",
   "execution_count": 8,
   "id": "1d7ea7bf",
   "metadata": {
    "tags": []
   },
   "outputs": [],
   "source": [
    "import numpy as np\n",
    "import mdtraj\n",
    "import nglview\n",
    "\n",
    "def wrap(trajectory):\n",
    "    \"\"\"Wrap positions back into the central box.\"\"\"\n",
    "    positions = trajectory.xyz[..., None, :]\n",
    "    box = trajectory.unitcell_vectors[:, None, :, :]\n",
    "    \n",
    "    frac_coords = positions @ np.linalg.inv(box)\n",
    "    wrapped_positions = (frac_coords - np.floor(frac_coords)) @ box\n",
    "    assert wrapped_positions.shape[2] == 1\n",
    "        \n",
    "    return mdtraj.Trajectory(\n",
    "        wrapped_positions[:, :, 0, :],\n",
    "        trajectory.top,\n",
    "        trajectory.time,\n",
    "        trajectory.unitcell_lengths,\n",
    "        trajectory.unitcell_angles,\n",
    "    )\n",
    "mdtraj.Trajectory.wrap = wrap\n",
    "\n",
    "# mdtraj_top = mdtraj.Topology.from_openmm(top.to_openmm())\n",
    "mdtraj_top = mdtraj.load(\"topology.pdb\").top\n",
    "\n",
    "trajectory: mdtraj.Trajectory = mdtraj.load(\n",
    "    \"trajectory.dcd\", top=mdtraj_top, stride=10\n",
    ")\n"
   ]
  },
  {
   "cell_type": "code",
   "execution_count": 9,
   "id": "88087b7c",
   "metadata": {
    "tags": []
   },
   "outputs": [],
   "source": [
    "lipid_resnames = set()\n",
    "lipid_idcs = []\n",
    "for res in mdtraj_top.residues:\n",
    "    if res.name.upper() not in ['HOH', 'CL-', 'NA+']:\n",
    "        lipid_resnames.add(res.name)\n",
    "        lipid_idcs.extend(atom.index for atom in res.atoms)\n",
    "        "
   ]
  },
  {
   "cell_type": "code",
   "execution_count": 10,
   "id": "8f60a48a-7e2a-4cce-926e-ddc13e35a599",
   "metadata": {
    "tags": []
   },
   "outputs": [],
   "source": [
    "final_frame_lipid_centroid = trajectory.xyz[-1][lipid_idcs].sum(axis=0) / len(lipid_idcs)\n",
    "box_centers = trajectory.unitcell_vectors.sum(axis=-1)/2"
   ]
  },
  {
   "cell_type": "code",
   "execution_count": 11,
   "id": "8d7839a1-3f9a-434a-ac8b-e7a7a2006e8b",
   "metadata": {
    "tags": []
   },
   "outputs": [],
   "source": [
    "trajectory.xyz = trajectory.xyz - final_frame_lipid_centroid + box_centers[:, None, :]\n",
    "trajectory = trajectory.wrap().make_molecules_whole()"
   ]
  },
  {
   "cell_type": "code",
   "execution_count": 32,
   "id": "48290c3f",
   "metadata": {
    "tags": []
   },
   "outputs": [
    {
     "data": {
      "application/vnd.jupyter.widget-view+json": {
       "model_id": "06283a0de6924e498eca6576c7506026",
       "version_major": 2,
       "version_minor": 0
      },
      "text/plain": [
       "NGLWidget(max_frame=500)"
      ]
     },
     "metadata": {},
     "output_type": "display_data"
    }
   ],
   "source": [
    "view = nglview.show_mdtraj(trajectory)\n",
    "lipid_resnames_selection = ' OR '.join(lipid_resnames)\n",
    "view.clear()\n",
    "view.add_representation(\"spacefill\", selection=f\"not ({lipid_resnames_selection})\", opacity=0.2)\n",
    "view.add_representation(\"spacefill\", selection=lipid_resnames_selection)\n",
    "# view.add_unitcell()\n",
    "# view.add_axes()\n",
    "view"
   ]
  },
  {
   "cell_type": "code",
   "execution_count": 49,
   "id": "813f1872-b326-480f-ab64-1898b99190c6",
   "metadata": {
    "tags": []
   },
   "outputs": [],
   "source": [
    "n_frames = view.max_frame + 1\n",
    "fps = 60\n",
    "seconds_per_frame = 1 / fps\n",
    "\n",
    "view.frame = 0\n",
    "time.sleep(10)\n",
    "for i in range(1, n_frames, 1):\n",
    "    view.frame = i\n",
    "    time.sleep(seconds_per_frame)\n",
    "    # view.control.spin([1,1,0], 0.1)\n",
    "    "
   ]
  },
  {
   "cell_type": "code",
   "execution_count": 30,
   "id": "f3c358a6-2ae7-44c6-938e-43c5174ec823",
   "metadata": {
    "tags": []
   },
   "outputs": [],
   "source": []
  },
  {
   "cell_type": "code",
   "execution_count": null,
   "id": "5453d01a-4e5e-473d-b653-b69c39979df8",
   "metadata": {},
   "outputs": [],
   "source": []
  }
 ],
 "metadata": {
  "kernelspec": {
   "display_name": "Python 3 (ipykernel)",
   "language": "python",
   "name": "python3"
  },
  "language_info": {
   "codemirror_mode": {
    "name": "ipython",
    "version": 3
   },
   "file_extension": ".py",
   "mimetype": "text/x-python",
   "name": "python",
   "nbconvert_exporter": "python",
   "pygments_lexer": "ipython3",
   "version": "3.10.10"
  }
 },
 "nbformat": 4,
 "nbformat_minor": 5
}
