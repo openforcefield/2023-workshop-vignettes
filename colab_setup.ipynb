{
 "cells": [
  {
   "cell_type": "code",
   "execution_count": null,
   "metadata": {},
   "outputs": [],
   "source": [
    "# https://gist.github.com/mfansler/e1c29a70f064af0f52171ca8ae90d1a6\n",
    "!wget -O miniconda.sh https://repo.anaconda.com/miniconda/Miniconda3-py37_4.10.3-Linux-x86_64.sh\n",
    "!chmod +x miniconda.sh\n",
    "!bash ./miniconda.sh -b -f -p /usr/local\n",
    "!rm miniconda.sh\n",
    "!conda config --add channels conda-forge\n",
    "!conda install -y mamba\n",
    "!mamba update -qy --all\n",
    "!mamba clean -qafy\n",
    "!wget https://raw.githubusercontent.com/openforcefield/2023-workshop-vignettes/colab/environment.yaml\n",
    "import sys, os\n",
    "\n",
    "sys.path.append('/usr/local/lib/python3.10/site-packages/')\n",
    "os.environ[\"CUDA_VISIBLE_DEVICES\"] = \"0\""
   ]
  }
 ],
 "metadata": {
  "kernelspec": {
   "display_name": "Python 3",
   "language": "python",
   "name": "python3"
  },
  "language_info": {
   "codemirror_mode": {
    "name": "ipython",
    "version": 2
   },
   "file_extension": ".py",
   "mimetype": "text/x-python",
   "name": "python",
   "nbconvert_exporter": "python",
   "pygments_lexer": "ipython2",
   "version": "2.7.6"
  },
  "pycharm": {
   "stem_cell": {
    "cell_type": "raw",
    "metadata": {
     "collapsed": false
    },
    "source": []
   }
  }
 },
 "nbformat": 4,
 "nbformat_minor": 0
}
