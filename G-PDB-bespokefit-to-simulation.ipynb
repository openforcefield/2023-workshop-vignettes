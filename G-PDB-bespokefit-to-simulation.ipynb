{
 "cells": [
  {
   "cell_type": "code",
   "execution_count": null,
   "id": "a2492b2a",
   "metadata": {},
   "outputs": [],
   "source": [
    "!wget -q https://raw.githubusercontent.com/openforcefield/2023-workshop-vignettes/main/colab_setup.ipynb\n",
    "%run colab_setup.ipynb\n",
    "%env LD_LIBRARY_PATH=$LD_LIBRARY_PATH:$CONDA_PREFIX/lib/"
   ]
  },
  {
   "cell_type": "markdown",
   "id": "34131dc6",
   "metadata": {},
   "source": [
    "The starting configuration for this vignette comes from the Toolkit Showcase, which assembles and solvates this topology starting from a prepared protein PDB and ligand SDF. \n",
    "\n",
    "https://github.com/openforcefield/openff-toolkit/tree/main/examples/toolkit_showcase"
   ]
  },
  {
   "cell_type": "markdown",
   "id": "461250f5",
   "metadata": {},
   "source": [
    "# OpenFF Code"
   ]
  },
  {
   "cell_type": "code",
   "execution_count": null,
   "id": "77455e37-bda9-4df3-9b7f-9a1e46bc82cf",
   "metadata": {
    "tags": []
   },
   "outputs": [],
   "source": [
    "!openff-bespoke executor run                          \\\n",
    "    --file               \"inputs/PT2385.sdf\"          \\\n",
    "    --workflow           \"default\"                    \\\n",
    "    --output             \"PT2385.json\"                \\\n",
    "    --force-field        \"openff-2.1.0.offxml\"        \\\n",
    "    --output-force-field \"openff-2.1.0-PT2385.offxml\" \\\n",
    "    --n-qc-compute-workers 1                          \\\n",
    "    --qc-compute-n-cores   10                         \\\n",
    "    --default-qc-spec xtb gfn2xtb none\n",
    "\n",
    "from openff.toolkit import ForceField\n",
    "\n",
    "ff = ForceField(\n",
    "    \"openff-2.1.0-PT2385.offxml\", \n",
    "    \"ff14sb_off_impropers_0.0.3.offxml\",\n",
    ")"
   ]
  },
  {
   "cell_type": "code",
   "execution_count": null,
   "id": "2bdfddd4",
   "metadata": {
    "tags": []
   },
   "outputs": [],
   "source": [
    "from openff.toolkit import Molecule, Topology\n",
    "\n",
    "ligand = Molecule.from_file(\"inputs/PT2385.sdf\")\n",
    "top = Topology.from_pdb(\"inputs/solvated_complex.pdb\", unique_molecules=[ligand])\n",
    "sys = ff.create_openmm_system(top)"
   ]
  },
  {
   "cell_type": "markdown",
   "id": "457a114d",
   "metadata": {},
   "source": [
    "# OpenMM Code"
   ]
  },
  {
   "cell_type": "code",
   "execution_count": null,
   "id": "59558d93",
   "metadata": {
    "tags": []
   },
   "outputs": [],
   "source": [
    "import openmm\n",
    "from openff.units import Quantity, unit\n",
    "from openmm import unit as openmm_unit\n",
    "\n",
    "# Construct and configure a Langevin integrator at 300 K with an appropriate friction constant and time-step\n",
    "integrator = openmm.LangevinMiddleIntegrator(\n",
    "    300 * openmm_unit.kelvin,\n",
    "    1 / openmm_unit.picosecond,\n",
    "    0.002 * openmm_unit.picoseconds,\n",
    ")\n",
    "\n",
    "# Combine the topology, system, integrator and initial positions into a simulation\n",
    "simulation = openmm.app.Simulation(top.to_openmm(), sys, integrator)\n",
    "simulation.context.setPositions(top.get_positions().to_openmm())\n",
    "\n",
    "# Add a reporter to record the structure every 10 steps\n",
    "dcd_reporter = openmm.app.DCDReporter(\"trajectory.dcd\", 250)\n",
    "simulation.reporters.append(dcd_reporter)\n",
    "simulation.context.setVelocitiesToTemperature(300 * openmm_unit.kelvin)\n",
    "simulation.runForClockTime(1.5 * openmm_unit.minute)"
   ]
  },
  {
   "cell_type": "markdown",
   "id": "188a7ec0",
   "metadata": {},
   "source": [
    "# NGLView"
   ]
  },
  {
   "cell_type": "code",
   "execution_count": null,
   "id": "f320bae7",
   "metadata": {
    "tags": []
   },
   "outputs": [],
   "source": [
    "import mdtraj\n",
    "import nglview\n",
    "\n",
    "trajectory: mdtraj.Trajectory = mdtraj.load(\n",
    "    \"trajectory.dcd\", top=mdtraj.Topology.from_openmm(top.to_openmm())\n",
    ")\n",
    "\n",
    "view = nglview.show_mdtraj(trajectory.image_molecules())\n",
    "view.add_representation(\"line\", selection=\"water\")\n",
    "view.add_representation(\n",
    "    \"hyperball\", radiusSize=1, radiusScale=0.5, selection=\"not protein and not water\"\n",
    ")\n",
    "view"
   ]
  },
  {
   "cell_type": "code",
   "execution_count": null,
   "id": "ac4079ba",
   "metadata": {},
   "outputs": [],
   "source": []
  }
 ],
 "metadata": {
  "kernelspec": {
   "display_name": "Python 3 (ipykernel)",
   "language": "python",
   "name": "python3"
  },
  "language_info": {
   "codemirror_mode": {
    "name": "ipython",
    "version": 3
   },
   "file_extension": ".py",
   "mimetype": "text/x-python",
   "name": "python",
   "nbconvert_exporter": "python",
   "pygments_lexer": "ipython3",
   "version": "3.10.11"
  }
 },
 "nbformat": 4,
 "nbformat_minor": 5
}
