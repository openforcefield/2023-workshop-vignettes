{
 "cells": [
  {
   "cell_type": "code",
   "execution_count": 1,
   "id": "570fb298-b7ec-4012-a311-d968b8db324e",
   "metadata": {
    "tags": []
   },
   "outputs": [],
   "source": [
    "%load_ext snakeviz"
   ]
  },
  {
   "cell_type": "code",
   "execution_count": 2,
   "id": "ed1d254d-f281-480b-8267-597c9380c6d0",
   "metadata": {
    "tags": []
   },
   "outputs": [],
   "source": [
    "from openff.interchange.smirnoff._nonbonded import *\n",
    "from openff.toolkit import *"
   ]
  },
  {
   "cell_type": "code",
   "execution_count": 3,
   "id": "c529a7f9-ae0e-49b0-9592-ce94a09b300a",
   "metadata": {
    "tags": []
   },
   "outputs": [
    {
     "data": {
      "application/vnd.jupyter.widget-view+json": {
       "model_id": "28e03835103e42fb882492c3f954ad3f",
       "version_major": 2,
       "version_minor": 0
      },
      "text/plain": []
     },
     "metadata": {},
     "output_type": "display_data"
    }
   ],
   "source": [
    "sage = ForceField(\"openff-2.0.0.offxml\")\n",
    "sage.deregister_parameter_handler(\"Constraints\")\n",
    "sage.deregister_parameter_handler(\"vdW\")\n",
    "\n",
    "water = Molecule.from_smiles(\"O\")\n",
    "\n",
    "interchange = sage.create_interchange(Topology.from_molecules(1_000 * [water]))"
   ]
  },
  {
   "cell_type": "code",
   "execution_count": 4,
   "id": "be175856-ae62-40ff-9bc7-0af8397fbeb6",
   "metadata": {
    "tags": []
   },
   "outputs": [
    {
     "name": "stdout",
     "output_type": "stream",
     "text": [
      "22.2 ms ± 216 µs per loop (mean ± std. dev. of 7 runs, 10 loops each)\n"
     ]
    }
   ],
   "source": [
    "%%timeit\n",
    "interchange['Electrostatics'].get_charges()\n",
    "# 1a7716a191dfcfd5b2c0cbf9277deb0777a92916: 129 ms ± 1.59 ms per loop (mean ± std. dev. of 7 runs, 10 loops each)\n",
    "# d51329a6da95f2a1a8ffd62f4376b4ed19ada1ba: 20.9 ms ± 753 µs per loop (mean ± std. dev. of 7 runs, 10 loops each)\n",
    "# 9eecced577ebcc0cc762e6edf300085fc535c003: 20.1 ms ± 142 µs per loop (mean ± std. dev. of 7 runs, 10 loops each)"
   ]
  },
  {
   "cell_type": "code",
   "execution_count": 5,
   "id": "a1df54e5-82e4-40cd-9d77-d01901c87bf3",
   "metadata": {
    "tags": []
   },
   "outputs": [],
   "source": [
    "sage = ForceField(\"openff-2.0.0.offxml\")\n",
    "sage.deregister_parameter_handler(\"Constraints\")\n",
    "sage.deregister_parameter_handler(\"vdW\")\n",
    "\n",
    "water = Molecule.from_smiles(\"O\")\n",
    "ethanol = Molecule.from_smiles(\"CCO\")\n",
    "\n",
    "interchange = sage.create_interchange(Topology.from_molecules(1_000 * [water, ethanol]))"
   ]
  },
  {
   "cell_type": "code",
   "execution_count": 6,
   "id": "de1a349a-0964-411d-9440-7438b6c205b5",
   "metadata": {
    "tags": []
   },
   "outputs": [
    {
     "name": "stdout",
     "output_type": "stream",
     "text": [
      "56.4 ms ± 297 µs per loop (mean ± std. dev. of 7 runs, 10 loops each)\n"
     ]
    }
   ],
   "source": [
    "%%timeit\n",
    "interchange['Electrostatics'].get_charges()\n",
    "# 1a7716a191dfcfd5b2c0cbf9277deb0777a92916: 506 ms ± 4.14 ms per loop (mean ± std. dev. of 7 runs, 1 loop each)\n",
    "# d51329a6da95f2a1a8ffd62f4376b4ed19ada1ba: 53.3 ms ± 1.5 ms per loop (mean ± std. dev. of 7 runs, 10 loops each)\n",
    "# 9eecced577ebcc0cc762e6edf300085fc535c003: 53.3 ms ± 1.5 ms per loop (mean ± std. dev. of 7 runs, 10 loops each)"
   ]
  },
  {
   "cell_type": "code",
   "execution_count": 7,
   "id": "9e90af58-7f8a-4836-ae16-351154ce8751",
   "metadata": {
    "tags": []
   },
   "outputs": [
    {
     "name": "stdout",
     "output_type": "stream",
     "text": [
      " \n",
      "*** Profile stats marshalled to file '/var/folders/p1/176rcfkn6zlbbjq4bdjmv2pr0000gn/T/tmpsxupu8v2'.\n",
      "Embedding SnakeViz in this document...\n",
      "<function display at 0x10fb6fc10>\n"
     ]
    },
    {
     "data": {
      "text/html": [
       "\n",
       "<iframe id='snakeviz-bf00ec68-eb60-11ed-aa72-9ac67e415b9e' frameborder=0 seamless width='100%' height='1000'></iframe>\n",
       "<script>document.getElementById(\"snakeviz-bf00ec68-eb60-11ed-aa72-9ac67e415b9e\").setAttribute(\"src\", \"http://\" + document.location.hostname + \":8080/snakeviz/%2Fvar%2Ffolders%2Fp1%2F176rcfkn6zlbbjq4bdjmv2pr0000gn%2FT%2Ftmpsxupu8v2\")</script>\n"
      ],
      "text/plain": [
       "<IPython.core.display.HTML object>"
      ]
     },
     "metadata": {},
     "output_type": "display_data"
    }
   ],
   "source": [
    "%%snakeviz\n",
    "interchange['Electrostatics'].get_charges()"
   ]
  },
  {
   "cell_type": "code",
   "execution_count": 12,
   "id": "d2aae38e-6c47-4071-864d-33ad71ab88d7",
   "metadata": {
    "tags": []
   },
   "outputs": [
    {
     "name": "stdout",
     "output_type": "stream",
     "text": [
      " \n",
      "*** Profile stats marshalled to file '/var/folders/p1/176rcfkn6zlbbjq4bdjmv2pr0000gn/T/tmp7xwbu9b7'.\n",
      "Embedding SnakeViz in this document...\n",
      "<function display at 0x10fb6fc10>\n"
     ]
    },
    {
     "data": {
      "text/html": [
       "\n",
       "<iframe id='snakeviz-4d5c92a0-eb61-11ed-aa72-9ac67e415b9e' frameborder=0 seamless width='100%' height='1000'></iframe>\n",
       "<script>document.getElementById(\"snakeviz-4d5c92a0-eb61-11ed-aa72-9ac67e415b9e\").setAttribute(\"src\", \"http://\" + document.location.hostname + \":8080/snakeviz/%2Fvar%2Ffolders%2Fp1%2F176rcfkn6zlbbjq4bdjmv2pr0000gn%2FT%2Ftmp7xwbu9b7\")</script>\n"
      ],
      "text/plain": [
       "<IPython.core.display.HTML object>"
      ]
     },
     "metadata": {},
     "output_type": "display_data"
    }
   ],
   "source": [
    "%%snakeviz\n",
    "sage.create_interchange(Topology.from_molecules(1_000 * [water, ethanol]))"
   ]
  },
  {
   "cell_type": "code",
   "execution_count": 8,
   "id": "5c3f5247-2db0-45b6-850f-ac95331e6182",
   "metadata": {
    "tags": []
   },
   "outputs": [],
   "source": [
    "_zero_charge = unit.Quantity(0.0, unit.elementary_charge)\n",
    "\n",
    "def zero_charge():\n",
    "    return _zero_charge"
   ]
  },
  {
   "cell_type": "code",
   "execution_count": 9,
   "id": "9b7ebfa9-9ea6-402b-8a87-d5cbd94a7e9d",
   "metadata": {
    "tags": []
   },
   "outputs": [
    {
     "data": {
      "text/plain": [
       "dict_keys([PotentialKey associated with handler 'LibraryCharges' with id '[#1]-[#8X2H2+0:1]-[#1]', mult 0, PotentialKey associated with handler 'LibraryCharges' with id '[#1:1]-[#8X2H2+0]-[#1]', mult 0, PotentialKey associated with handler 'ToolkitAM1BCCHandler' with id '[H:4][C:1]([H:5])([H:6])[C:2]([H:7])([H:8])[O:3][H:9]', mult 0, PotentialKey associated with handler 'ToolkitAM1BCCHandler' with id '[H:4][C:1]([H:5])([H:6])[C:2]([H:7])([H:8])[O:3][H:9]', mult 1, PotentialKey associated with handler 'ToolkitAM1BCCHandler' with id '[H:4][C:1]([H:5])([H:6])[C:2]([H:7])([H:8])[O:3][H:9]', mult 2, PotentialKey associated with handler 'ToolkitAM1BCCHandler' with id '[H:4][C:1]([H:5])([H:6])[C:2]([H:7])([H:8])[O:3][H:9]', mult 3, PotentialKey associated with handler 'ToolkitAM1BCCHandler' with id '[H:4][C:1]([H:5])([H:6])[C:2]([H:7])([H:8])[O:3][H:9]', mult 4, PotentialKey associated with handler 'ToolkitAM1BCCHandler' with id '[H:4][C:1]([H:5])([H:6])[C:2]([H:7])([H:8])[O:3][H:9]', mult 5, PotentialKey associated with handler 'ToolkitAM1BCCHandler' with id '[H:4][C:1]([H:5])([H:6])[C:2]([H:7])([H:8])[O:3][H:9]', mult 6, PotentialKey associated with handler 'ToolkitAM1BCCHandler' with id '[H:4][C:1]([H:5])([H:6])[C:2]([H:7])([H:8])[O:3][H:9]', mult 7, PotentialKey associated with handler 'ToolkitAM1BCCHandler' with id '[H:4][C:1]([H:5])([H:6])[C:2]([H:7])([H:8])[O:3][H:9]', mult 8])"
      ]
     },
     "execution_count": 9,
     "metadata": {},
     "output_type": "execute_result"
    }
   ],
   "source": [
    "interchange['Electrostatics'].potentials.keys()"
   ]
  },
  {
   "cell_type": "code",
   "execution_count": 10,
   "id": "468058c1-4c9c-4189-9c95-f8a903d4912b",
   "metadata": {
    "tags": []
   },
   "outputs": [
    {
     "name": "stdout",
     "output_type": "stream",
     "text": [
      "55.5 ms ± 1.46 ms per loop (mean ± std. dev. of 7 runs, 10 loops each)\n"
     ]
    }
   ],
   "source": [
    "%%timeit\n",
    "interchange['Electrostatics'].get_charges()"
   ]
  },
  {
   "cell_type": "code",
   "execution_count": 11,
   "id": "0e45a736-c3fe-4ca1-ba9c-a8b3b360f2ed",
   "metadata": {
    "tags": []
   },
   "outputs": [
    {
     "ename": "NameError",
     "evalue": "name 'defaultdict' is not defined",
     "output_type": "error",
     "traceback": [
      "\u001b[0;31m---------------------------------------------------------------------------\u001b[0m",
      "\u001b[0;31mNameError\u001b[0m                                 Traceback (most recent call last)",
      "Cell \u001b[0;32mIn[11], line 5\u001b[0m\n\u001b[1;32m      3\u001b[0m \u001b[38;5;28;01mdef\u001b[39;00m \u001b[38;5;21mzero_charge\u001b[39m():\n\u001b[1;32m      4\u001b[0m     \u001b[38;5;28;01mreturn\u001b[39;00m _zero_charge\n\u001b[0;32m----> 5\u001b[0m x1 \u001b[38;5;241m=\u001b[39m \u001b[43mdefaultdict\u001b[49m(\n\u001b[1;32m      6\u001b[0m            \u001b[38;5;28;01mlambda\u001b[39;00m: unit\u001b[38;5;241m.\u001b[39mQuantity(\u001b[38;5;241m0.0\u001b[39m, unit\u001b[38;5;241m.\u001b[39melementary_charge)\n\u001b[1;32m      7\u001b[0m         )\n\u001b[1;32m      8\u001b[0m x2 \u001b[38;5;241m=\u001b[39m {_: _zero_charge \u001b[38;5;28;01mfor\u001b[39;00m _ \u001b[38;5;129;01min\u001b[39;00m \u001b[38;5;28mrange\u001b[39m(\u001b[38;5;241m100_000\u001b[39m)}\n",
      "\u001b[0;31mNameError\u001b[0m: name 'defaultdict' is not defined"
     ]
    }
   ],
   "source": [
    "_zero_charge = unit.Quantity(0.0, unit.elementary_charge)\n",
    "\n",
    "def zero_charge():\n",
    "    return _zero_charge\n",
    "x1 = defaultdict(\n",
    "           lambda: unit.Quantity(0.0, unit.elementary_charge)\n",
    "        )\n",
    "x2 = {_: _zero_charge for _ in range(100_000)}"
   ]
  },
  {
   "cell_type": "code",
   "execution_count": null,
   "id": "a56e8585-628f-4d4b-8ba5-1716a58673c2",
   "metadata": {
    "tags": []
   },
   "outputs": [],
   "source": [
    "%%timeit\n",
    "\n",
    "y = [x1[_] + _zero_charge for _ in range(100_000)]"
   ]
  },
  {
   "cell_type": "code",
   "execution_count": null,
   "id": "ced55e9f-f211-48be-90ce-cbb8739491c7",
   "metadata": {
    "tags": []
   },
   "outputs": [],
   "source": [
    "%%timeit\n",
    "\n",
    "y = [x2[_] + _zero_charge for _ in range(100_000)]"
   ]
  }
 ],
 "metadata": {
  "kernelspec": {
   "display_name": "Python 3 (ipykernel)",
   "language": "python",
   "name": "python3"
  },
  "language_info": {
   "codemirror_mode": {
    "name": "ipython",
    "version": 3
   },
   "file_extension": ".py",
   "mimetype": "text/x-python",
   "name": "python",
   "nbconvert_exporter": "python",
   "pygments_lexer": "ipython3",
   "version": "3.9.16"
  }
 },
 "nbformat": 4,
 "nbformat_minor": 5
}
