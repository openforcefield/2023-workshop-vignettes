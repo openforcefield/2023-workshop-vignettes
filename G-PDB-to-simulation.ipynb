{
 "cells": [
  {
   "cell_type": "code",
   "execution_count": null,
   "id": "a2492b2a",
   "metadata": {},
   "outputs": [],
   "source": [
    "!wget https://raw.githubusercontent.com/openforcefield/2023-workshop-vignettes/main/colab_setup.ipynb\n",
    "%run colab_setup.ipynb\n",
    "%env LD_LIBRARY_PATH=$LD_LIBRARY_PATH:$CONDA_PREFIX/lib/"
   ]
  },
  {
   "attachments": {},
   "cell_type": "markdown",
   "id": "34131dc6",
   "metadata": {},
   "source": [
    "The starting configuration for this vignette comes from the Toolkit Showcase, which assembles and solvates this topology starting from a prepared protein PDB and ligand SDF. \n",
    "\n",
    "https://github.com/openforcefield/openff-toolkit/tree/main/examples/toolkit_showcase"
   ]
  },
  {
   "attachments": {},
   "cell_type": "markdown",
   "id": "461250f5",
   "metadata": {},
   "source": [
    "# OpenFF Code"
   ]
  },
  {
   "cell_type": "code",
   "execution_count": 3,
   "id": "2bdfddd4",
   "metadata": {},
   "outputs": [
    {
     "data": {
      "application/vnd.jupyter.widget-view+json": {
       "model_id": "ebfd479f488548cc997d51138fdc3ee5",
       "version_major": 2,
       "version_minor": 0
      },
      "text/plain": []
     },
     "metadata": {},
     "output_type": "display_data"
    }
   ],
   "source": [
    "from openff.toolkit import Molecule, Topology, ForceField\n",
    "\n",
    "ligand = Molecule.from_file(\"inputs/PT2385.sdf\")\n",
    "top = Topology.from_pdb(\"inputs/solvated_complex.pdb\", unique_molecules=[ligand])\n",
    "ff = ForceField(\"openff-2.0.0.offxml\", \"ff14sb_off_impropers_0.0.3.offxml\")\n",
    "sys = ff.create_openmm_system(top)"
   ]
  },
  {
   "attachments": {},
   "cell_type": "markdown",
   "id": "457a114d",
   "metadata": {},
   "source": [
    "# OpenMM Code"
   ]
  },
  {
   "cell_type": "code",
   "execution_count": 5,
   "id": "59558d93",
   "metadata": {},
   "outputs": [],
   "source": [
    "import openmm\n",
    "from openff.units import Quantity, unit\n",
    "from openmm import unit as openmm_unit\n",
    "\n",
    "# Construct and configure a Langevin integrator at 300 K with an appropriate friction constant and time-step\n",
    "integrator = openmm.LangevinIntegrator(\n",
    "    300 * openmm_unit.kelvin,\n",
    "    1 / openmm_unit.picosecond,\n",
    "    0.002 * openmm_unit.picoseconds,\n",
    ")\n",
    "\n",
    "# Combine the topology, system, integrator and initial positions into a simulation\n",
    "simulation = openmm.app.Simulation(top.to_openmm(), sys, integrator)\n",
    "simulation.context.setPositions(top.get_positions().to_openmm())\n",
    "\n",
    "# Add a reporter to record the structure every 10 steps\n",
    "dcd_reporter = openmm.app.DCDReporter(\"trajectory.dcd\", 250)\n",
    "simulation.reporters.append(dcd_reporter)\n",
    "simulation.context.setVelocitiesToTemperature(300 * openmm_unit.kelvin)\n",
    "simulation.runForClockTime(1.5 * openmm_unit.minute)"
   ]
  },
  {
   "attachments": {},
   "cell_type": "markdown",
   "id": "188a7ec0",
   "metadata": {},
   "source": [
    "# NGLView"
   ]
  },
  {
   "cell_type": "code",
   "execution_count": 7,
   "id": "f320bae7",
   "metadata": {},
   "outputs": [
    {
     "data": {
      "application/vnd.jupyter.widget-view+json": {
       "model_id": "cacf3e09eceb4a209ae9c1c15f20723e",
       "version_major": 2,
       "version_minor": 0
      },
      "text/plain": [
       "NGLWidget(max_frame=41)"
      ]
     },
     "metadata": {},
     "output_type": "display_data"
    }
   ],
   "source": [
    "import mdtraj\n",
    "import nglview\n",
    "\n",
    "trajectory: mdtraj.Trajectory = mdtraj.load(\n",
    "    \"trajectory.dcd\", top=mdtraj.Topology.from_openmm(top.to_openmm())\n",
    ")\n",
    "\n",
    "view = nglview.show_mdtraj(trajectory.image_molecules())\n",
    "view.add_representation(\"line\", selection=\"water\")\n",
    "view.add_representation(\n",
    "    \"hyperball\", radiusSize=1, radiusScale=0.5, selection=\"not protein and not water\"\n",
    ")\n",
    "view"
   ]
  },
  {
   "cell_type": "code",
   "execution_count": null,
   "id": "ac4079ba",
   "metadata": {},
   "outputs": [],
   "source": []
  }
 ],
 "metadata": {
  "kernelspec": {
   "display_name": "Python 3 (ipykernel)",
   "language": "python",
   "name": "python3"
  },
  "language_info": {
   "codemirror_mode": {
    "name": "ipython",
    "version": 3
   },
   "file_extension": ".py",
   "mimetype": "text/x-python",
   "name": "python",
   "nbconvert_exporter": "python",
   "pygments_lexer": "ipython3",
   "version": "3.10.10"
  }
 },
 "nbformat": 4,
 "nbformat_minor": 5
}
